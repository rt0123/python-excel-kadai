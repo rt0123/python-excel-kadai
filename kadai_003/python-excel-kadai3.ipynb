{
 "cells": [
  {
   "cell_type": "code",
   "execution_count": 15,
   "metadata": {
    "executionInfo": {
     "elapsed": 363,
     "status": "ok",
     "timestamp": 1734276094865,
     "user": {
      "displayName": "Ryo Tsushima",
      "userId": "04770551559099079977"
     },
     "user_tz": -540
    },
    "id": "11zcB7bsr2I7"
   },
   "outputs": [],
   "source": [
    "import openpyxl\n",
    "import pandas as pd\n",
    "from openpyxl.styles import (\n",
    "    PatternFill\n",
    ")\n",
    "\n",
    "# 処理対象のファイル名のリストを格納\n",
    "file_list = ['2022_年間売上表.xlsx', '2023_年間売上表.xlsx']\n",
    "\n",
    "# 結合後のデータを格納するための空のデータフレームを作成\n",
    "df = pd.DataFrame()\n",
    "\n",
    "# ファイルを一つずつ処理する\n",
    "for file_name in file_list:\n",
    "    # Excelファイルを読み込む\n",
    "    temp_df = pd.read_excel(file_name, header=0)\n",
    "\n",
    "    # データフレームの列名を指定\n",
    "    temp_df.columns = ['売上年', '商品', '金額（千円）']\n",
    "    \n",
    "    # concat()でデータフレームを連結\n",
    "    df = pd.concat([df, temp_df], ignore_index=True)\n",
    "\n",
    "#print(df)\n",
    "\n",
    "grouped = df.groupby(['商品','売上年']).agg({'金額（千円）':'sum'}).reset_index()\n",
    "writer = pd.ExcelWriter('売上集計表.xlsx')\n",
    "\n",
    "grouped.to_excel(writer, sheet_name='売上集計表', index=False)\n",
    "writer.close()\n",
    "\n",
    "writer = openpyxl.load_workbook('売上集計表.xlsx')\n",
    "sheet = writer.active\n",
    "# セルの整形\n",
    "fill = PatternFill(fgColor='F2F2F2', fill_type='solid')  # 塗りつぶしの設定\n",
    "for col in ['A', 'B', 'C']:\n",
    "    sheet[f'{col}1'].fill = fill\n",
    "    sheet.column_dimensions[f'{col}'].width = 20  # 列の幅を20に設定\n",
    "\n",
    "for row in range(1, sheet.max_row + 1):  # シート内の全行を対象\n",
    "    sheet.row_dimensions[row].height = 14\n",
    "\n",
    "writer.save('売上集計表.xlsx')\n",
    "\n",
    "\n"
   ]
  }
 ],
 "metadata": {
  "colab": {
   "authorship_tag": "ABX9TyNe2fBz++XmeTxeinUDADgP",
   "provenance": []
  },
  "kernelspec": {
   "display_name": "Python 3",
   "name": "python3"
  },
  "language_info": {
   "codemirror_mode": {
    "name": "ipython",
    "version": 3
   },
   "file_extension": ".py",
   "mimetype": "text/x-python",
   "name": "python",
   "nbconvert_exporter": "python",
   "pygments_lexer": "ipython3",
   "version": "3.13.1"
  }
 },
 "nbformat": 4,
 "nbformat_minor": 0
}
